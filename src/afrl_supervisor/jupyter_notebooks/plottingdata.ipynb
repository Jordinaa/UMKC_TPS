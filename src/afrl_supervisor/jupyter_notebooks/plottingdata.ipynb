{
 "cells": [
  {
   "cell_type": "code",
   "execution_count": 16,
   "id": "af8809ca-5de1-43e5-adb1-302967329959",
   "metadata": {
    "tags": []
   },
   "outputs": [],
   "source": [
    "import numpy as np\n",
    "import matplotlib.pyplot as plt\n",
    "\n",
    "A0 = 0.05984281113\n",
    "CLA = 4.752798721\n",
    "CLA_STALL = -3.85\n",
    "CDA = 0.6417112299\n",
    "CDA_STALL = -0.9233984055\n",
    "ALPHA_STALL = 0.3391428111\n",
    "WINGAREA = 0.6\n",
    "AIR_DENSITY = 1.2041\n",
    "MASS = 1.5\n",
    "G = 9.81"
   ]
  },
  {
   "cell_type": "code",
   "execution_count": null,
   "id": "c8afe583-0b35-45ac-997c-d97c5244a0b4",
   "metadata": {
    "tags": []
   },
   "outputs": [],
   "source": [
    "class FlightEnvelopeAssessment():\n",
    "    def __init__(self, A0, CLA, CDA, ALPHA_STALL, WINGAREA, AIR_DENSITY, MASS, G, CLA_STALL, CDA_STALL):\n",
    "        self.cla_stall = CLA_STALL\n",
    "        self.cda_stall = CDA_STALL\n",
    "        self.alpha0 = A0\n",
    "        self.cla = CLA\n",
    "        self.cda = CDA\n",
    "        self.alpha_stall = ALPHA_STALL\n",
    "        self.area = WINGAREA\n",
    "        self.rho = AIR_DENSITY\n",
    "        self.mass = MASS\n",
    "        self.g = G\n",
    "\n",
    "        self.coefficientLift = 0.0\n",
    "        self.dynamicPressure = 0.0\n",
    "        self.lift = 0.0\n",
    "        self.velocity = 0.0\n",
    "        self.loadFactor = 0.0\n",
    "        self.stallSpeed = 0.0\n",
    "        self.weight = 0.0\n",
    "\n",
    "        self.vStall = 0.0\n",
    "        self.clMaxWeights = [.2, .4, .6, .8]\n",
    "\n",
    "        self.coefficientLiftList = []\n",
    "        self.angleList = np.arange(0, ALPHA_STALL, 0.01 * np.pi/180)\n",
    "\n",
    "        for angle in self.angleList:\n",
    "            self.coefficientLift = self.calc_cl(angle)\n",
    "            self.coefficientLiftList.append(self.coefficientLift)\n",
    "\n",
    "        self.clMax = max(self.coefficientLiftList)\n",
    "        self.angleListDegrees = np.rad2deg(self.angleList)\n",
    "        self.calc_vStall()\n",
    "\n",
    "    def calc_cl(self, angle_of_attack):\n",
    "        cl = self.cla * (angle_of_attack - self.alpha0)\n",
    "        return cl\n",
    "\n",
    "    def calc_vStall(self):\n",
    "        self.vStall = np.sqrt((2 * self.mass * self.g) / (self.rho * self.area * self.clMax))\n",
    "\n",
    "    def calc_lift_coefficient_vs_aoa(self):\n",
    "        cl_max_index = np.argmax(self.coefficientLiftList)\n",
    "        aoa = self.angleListDegrees\n",
    "        cl = self.coefficientLiftList\n",
    "        clMax = self.clMax\n",
    "        return aoa, cl\n",
    "\n",
    "    def calc_lift_vs_velocity(self):\n",
    "        velocities = np.linspace(self.vStall, 1.5 * self.vStall, 100)\n",
    "        lift_values = []\n",
    "        for v in velocities:\n",
    "            self.dynamicPressure = 0.5 * self.rho * v ** 2\n",
    "            self.lift = self.clMax * self.area * self.dynamicPressure\n",
    "            lift_values.append(self.lift)\n",
    "        return velocities, lift_values\n",
    "\n",
    "    def calc_load_factor_vs_velocity(self):\n",
    "        velocities = np.linspace(self.vStall, 1.5 * self.vStall, 100)\n",
    "        load_factors = []\n",
    "        for v in velocities:\n",
    "            self.dynamicPressure = 0.5 * self.rho * v ** 2\n",
    "            self.lift = self.clMax * self.area * self.dynamicPressure\n",
    "            self.loadFactor = self.lift / (self.mass * self.g)\n",
    "            load_factors.append(self.loadFactor)\n",
    "        return velocities, load_factors\n"
   ]
  },
  {
   "cell_type": "code",
   "execution_count": 18,
   "id": "b82dc12b-abe4-482b-b07a-415382d92c2f",
   "metadata": {
    "tags": []
   },
   "outputs": [],
   "source": []
  },
  {
   "cell_type": "code",
   "execution_count": 19,
   "id": "299256b1-8c03-423f-90e9-5950409eeefc",
   "metadata": {
    "tags": []
   },
   "outputs": [
    {
     "ename": "NameError",
     "evalue": "name 'alpha_cl_max' is not defined",
     "output_type": "error",
     "traceback": [
      "\u001b[0;31m---------------------------------------------------------------------------\u001b[0m",
      "\u001b[0;31mNameError\u001b[0m                                 Traceback (most recent call last)",
      "Cell \u001b[0;32mIn[19], line 2\u001b[0m\n\u001b[1;32m      1\u001b[0m \u001b[38;5;66;03m# Lift Coefficient vs Angle of Attack\u001b[39;00m\n\u001b[0;32m----> 2\u001b[0m plt\u001b[38;5;241m.\u001b[39mplot(\u001b[43malpha_cl_max\u001b[49m, fea\u001b[38;5;241m.\u001b[39mclMax, \u001b[38;5;124m'\u001b[39m\u001b[38;5;124mro\u001b[39m\u001b[38;5;124m'\u001b[39m, label\u001b[38;5;241m=\u001b[39m\u001b[38;5;124mf\u001b[39m\u001b[38;5;124m'\u001b[39m\u001b[38;5;124mClMax: \u001b[39m\u001b[38;5;132;01m{\u001b[39;00mfea\u001b[38;5;241m.\u001b[39mclMax\u001b[38;5;132;01m:\u001b[39;00m\u001b[38;5;124m.2f\u001b[39m\u001b[38;5;132;01m}\u001b[39;00m\u001b[38;5;124m'\u001b[39m)\n\u001b[1;32m      3\u001b[0m plt\u001b[38;5;241m.\u001b[39mplot(angleListDegrees, coefficientLiftList)\n\u001b[1;32m      4\u001b[0m plt\u001b[38;5;241m.\u001b[39mxlabel(\u001b[38;5;124m\"\u001b[39m\u001b[38;5;124mAngle of Attack (degrees)\u001b[39m\u001b[38;5;124m\"\u001b[39m)\n",
      "\u001b[0;31mNameError\u001b[0m: name 'alpha_cl_max' is not defined"
     ]
    }
   ],
   "source": []
  },
  {
   "cell_type": "code",
   "execution_count": null,
   "id": "c3c22f1a-50fb-4663-a17f-cc63380d4bb9",
   "metadata": {},
   "outputs": [],
   "source": []
  }
 ],
 "metadata": {
  "kernelspec": {
   "display_name": "Python 3 (ipykernel)",
   "language": "python",
   "name": "python3"
  },
  "language_info": {
   "codemirror_mode": {
    "name": "ipython",
    "version": 3
   },
   "file_extension": ".py",
   "mimetype": "text/x-python",
   "name": "python",
   "nbconvert_exporter": "python",
   "pygments_lexer": "ipython3",
   "version": "3.8.10"
  }
 },
 "nbformat": 4,
 "nbformat_minor": 5
}
