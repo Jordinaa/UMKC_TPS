{
 "cells": [
  {
   "cell_type": "code",
   "execution_count": null,
   "id": "cadc57e6-8521-4542-9ff7-6c678ccca48f",
   "metadata": {
    "tags": []
   },
   "outputs": [],
   "source": [
    "import xml.etree.ElementTree as ET\n",
    "import matplotlib.pyplot as plt\n",
    "import numpy as np\n",
    "import math"
   ]
  },
  {
   "cell_type": "markdown",
   "id": "43078487-1978-40ea-bc5c-0d69d08a6dd6",
   "metadata": {},
   "source": [
    "## XML data imports and assigns to functions (not finished) "
   ]
  },
  {
   "cell_type": "code",
   "execution_count": null,
   "id": "842784b9-0c5e-442a-9409-1ea81bc7ef47",
   "metadata": {
    "tags": []
   },
   "outputs": [],
   "source": [
    "model_path = '/home/taranto/PX4-Autopilot/Tools/sitl_gazebo/models/plane/plane.sdf.jinja'\n",
    "\n",
    "tree = ET.parse(model_path)\n",
    "root = tree.getroot()\n",
    "# looks at the right wing element \n",
    "plugin_right_wing = root.find(\".//plugin[@name='right_wing']\")"
   ]
  },
  {
   "cell_type": "code",
   "execution_count": null,
   "id": "3a35ccb6-2321-44a0-af2e-2a675a1fbb5a",
   "metadata": {
    "tags": []
   },
   "outputs": [],
   "source": [
    "# extracts from the xml file the values i want\n",
    "a0 = plugin_right_wing.find('a0').text\n",
    "cla = plugin_right_wing.find('cla').text\n",
    "cda = plugin_right_wing.find('cda').text\n",
    "cma = plugin_right_wing.find('cma').text\n",
    "alpha_stall = plugin_right_wing.find('alpha_stall').text\n",
    "cla_stall = plugin_right_wing.find('cla_stall').text\n",
    "cda_stall = plugin_right_wing.find('cda_stall').text\n",
    "cma_stall = plugin_right_wing.find('cma_stall').text\n",
    "\n",
    "# initial angle of attack also the y intercept of the alpha lift coeff. curve\n",
    "print(f\"a0: {a0}\")\n",
    "# angle of attack at stall point the PEAK angle of attack\n",
    "print(f\"alpha_stall: {alpha_stall}\")\n",
    "# ratio of C_l and slpha slope before stall\n",
    "print(f\"cla: {cla}\")\n",
    "# ratio of C_l and alpha slope after stall sloe of the second portion of the alpha lift\n",
    "print(f\"cla_stall: {cla_stall}\")"
   ]
  },
  {
   "cell_type": "code",
   "execution_count": null,
   "id": "48917ba2-9fd0-44b9-9303-05b1ea20f06a",
   "metadata": {
    "tags": []
   },
   "outputs": [],
   "source": [
    "a0 = float(a0)\n",
    "alpha_stall = float(alpha_stall)\n",
    "cla = float(cla)\n",
    "cla_stall = float(cla_stall)\n",
    "alpha_stall = np.rad2deg(alpha_stall)"
   ]
  },
  {
   "cell_type": "markdown",
   "id": "748f4ab0-4002-4605-86ab-1d760cad15a5",
   "metadata": {},
   "source": [
    "## Explicit data"
   ]
  },
  {
   "cell_type": "code",
   "execution_count": null,
   "id": "e7204b3e-e25f-4232-9bb3-67561f92326b",
   "metadata": {
    "tags": []
   },
   "outputs": [],
   "source": [
    "# a0: The initial \"alpha\" or initial angle of attack. a0 is also the y-intercept of the alpha-lift coefficient curve.\n",
    "a0 = 0.05984281113\n",
    "# cla: The ratio of the coefficient of lift and alpha slope before stall. Slope of the first portion of the alpha-lift coefficient curve.\n",
    "cla = 4.752798721\n",
    "# cda: The ratio of the coefficient of drag and alpha slope before stall.\n",
    "cda = 0.6417112299\n",
    "# alpha_stall: Angle of attack at stall point; the peak angle of attack.\n",
    "alpha_stall = np.rad2deg(0.3391428111)\n",
    "# cla_stall: The ratio of coefficient of lift and alpha slope after stall. Slope of the second portion of the alpha-lift coefficient curve.\n",
    "cla_stall = -3.85\n",
    "# cda_stall: The ratio of coefficient of drag and alpha slope after stall.\n",
    "cda_stall = -0.9233984055\n",
    "area = 0.6\n",
    "air_density = 1.2041\n",
    "print(f\"alpha_knot: {a0} \\ncla: {cla} \\ncda: {cda} \\nalpha_stall: {alpha_stall} \\ncla_stall: {cla_stall} \\ncda_stall: {cda_stall} \")"
   ]
  },
  {
   "cell_type": "code",
   "execution_count": null,
   "id": "306c89e1-2d0b-4e69-89bc-04e18406280e",
   "metadata": {
    "tags": []
   },
   "outputs": [],
   "source": [
    "def plot_lift_coefficient_vs_angle_of_attack(alpha_l):\n",
    "    \"\"\"\n",
    "    Plot the coefficient of lift vs angle of attack.\n",
    "\n",
    "    :param alpha_l: The lift curve slope in per radian.\n",
    "    \"\"\"\n",
    "    # Generate a range of angles of attack from -10 to 20 degrees\n",
    "    alpha_deg = np.linspace(-10, 20, 100)\n",
    "    alpha_rad = alpha_deg * np.pi / 180.0\n",
    "\n",
    "    # Calculate the corresponding coefficient of lift for each angle of attack\n",
    "    cl = alpha_rad * alpha_l\n",
    "\n",
    "    # Create the plot\n",
    "    fig, ax = plt.subplots()\n",
    "    ax.plot(alpha_deg, cl)\n",
    "    plt.axvline(x=alpha_stall, color='r', linestyle='--')\n",
    "    ax.set_xlabel('Angle of attack (deg)')\n",
    "    ax.set_ylabel('Coefficient of lift')\n",
    "    ax.set_title('C_L vs α')\n",
    "    ax.grid(True)\n",
    "    # Show the plot\n",
    "    plt.show()\n",
    "    \n",
    "plot_lift_coefficient_vs_angle_of_attack(cla)"
   ]
  },
  {
   "cell_type": "code",
   "execution_count": null,
   "id": "7348dcfc-6857-472b-8266-698354134a9d",
   "metadata": {
    "tags": []
   },
   "outputs": [],
   "source": [
    "def plot_lift_vs_airspeed(cl, s, rho, airspeed):\n",
    "    \"\"\"\n",
    "    Plot the lift vs airspeed.\n",
    "\n",
    "    :param cl: The coefficient of lift.\n",
    "    :param s: The wing area in square meters.\n",
    "    :param rho: The air density in kg/m^3.\n",
    "    :param airspeed: List of airspeed values in m/s.\n",
    "    \"\"\"\n",
    "    # Calculate the corresponding lift values for each airspeed\n",
    "    lift = [0.5 * rho * v**2 * s * cl for v in airspeed]\n",
    "\n",
    "    # Create the plot\n",
    "    fig, ax = plt.subplots()\n",
    "    ax.plot(airspeed, lift)\n",
    "    ax.set_xlabel('Airspeed (m/s)')\n",
    "    ax.set_ylabel('Lift (N)')\n",
    "    ax.set_title('Lift vs Airspeed')\n",
    "    ax.grid(True)\n",
    "\n",
    "    # Show the plot\n",
    "    plt.show()"
   ]
  },
  {
   "cell_type": "code",
   "execution_count": null,
   "id": "a437ce56-c8ba-4a3f-96ca-b689eec285c8",
   "metadata": {
    "tags": []
   },
   "outputs": [],
   "source": [
    "airspeed = np.linspace(0, 100, 101)\n",
    "plot_lift_vs_airspeed(cla, area, air_density, airspeed)"
   ]
  },
  {
   "cell_type": "code",
   "execution_count": null,
   "id": "781a2d81-a5ff-4754-bede-862342f8a919",
   "metadata": {
    "tags": []
   },
   "outputs": [],
   "source": [
    "def calculate_coefficient_of_lift(cla, a0, alpha):\n",
    "    \"\"\"\n",
    "    Calculate the coefficient of lift for a given angle of attack.\n",
    "    :param cla: The ratio of the coefficient of lift and alpha slope before stall.\n",
    "    :param a0: The initial angle of attack.\n",
    "    :param alpha: The angle of attack.\n",
    "    :return: The coefficient of lift.\n",
    "    \"\"\"\n",
    "    cl = cla * (alpha - a0)\n",
    "    return cl"
   ]
  },
  {
   "cell_type": "code",
   "execution_count": null,
   "id": "5fb47631-17a4-4584-aab9-efd0878e7206",
   "metadata": {
    "tags": []
   },
   "outputs": [],
   "source": [
    "# calculate_coefficient_of_lift(cla, a0, alpha)\n",
    "print(alpha)"
   ]
  },
  {
   "cell_type": "code",
   "execution_count": null,
   "id": "221b14f9-57fc-4088-a536-74023fbc378e",
   "metadata": {
    "tags": []
   },
   "outputs": [],
   "source": []
  },
  {
   "cell_type": "code",
   "execution_count": null,
   "id": "1f5668f9-4797-4d16-86f0-6d392c1a00e6",
   "metadata": {},
   "outputs": [],
   "source": [
    "import numpy as np\n",
    "import matplotlib.pyplot as plt\n",
    "\n",
    "# Constants\n",
    "a0 = 0.05984281113\n",
    "cla = 4.752798721\n",
    "cda = 0.6417112299\n",
    "alpha_stall = np.rad2deg(0.3391428111)\n",
    "cla_stall = -3.85\n",
    "cda_stall = -0.9233984055\n",
    "area = 0.6\n",
    "air_density = 1.2041\n",
    "g = 9.81\n",
    "\n",
    "def plot_load_factor_vs_airspeed():\n",
    "    # Calculate maximum lift coefficient before stall\n",
    "    cl_max = cla * (alpha_stall - a0)\n",
    "\n",
    "    # Calculate maximum load factor at various airspeeds\n",
    "    v_max_array = np.linspace(0, 150, 100)  # Maximum airspeed array\n",
    "    n_max_array = (0.5 * air_density * v_max_array**2 * cl_max) / (g)\n",
    "\n",
    "    # Plot load factor vs airspeed\n",
    "    plt.plot(v_max_array, n_max_array)\n",
    "    plt.xlabel('Airspeed (m/s)')\n",
    "    plt.ylabel('Load Factor')\n",
    "    plt.title('Flight Envelope')\n",
    "    plt.show()\n"
   ]
  },
  {
   "cell_type": "code",
   "execution_count": null,
   "id": "5ab1b209-1ae1-4652-b88d-c9c71adf8dba",
   "metadata": {
    "tags": []
   },
   "outputs": [],
   "source": [
    "plot_load_factor_vs_airspeed()"
   ]
  },
  {
   "cell_type": "code",
   "execution_count": null,
   "id": "c75bfff0-7a33-415d-b403-a0a3e296fde1",
   "metadata": {
    "tags": []
   },
   "outputs": [],
   "source": []
  },
  {
   "cell_type": "code",
   "execution_count": null,
   "id": "b49c7b3d-b1e4-459a-8750-53904ec7a4a6",
   "metadata": {},
   "outputs": [],
   "source": []
  },
  {
   "cell_type": "code",
   "execution_count": null,
   "id": "614102d3-88f3-41f8-b8f6-ee59ebf26421",
   "metadata": {
    "tags": []
   },
   "outputs": [],
   "source": [
    "a0 = 0.05984281113\n",
    "cla = 4.752798721\n",
    "cda = 0.6417112299\n",
    "alpha_stall = np.rad2deg(0.3391428111)\n",
    "cla_stall = -3.85\n",
    "cda_stall = -0.9233984055\n",
    "area = 0.6\n",
    "air_density = 1.2041\n",
    "g = 9.81"
   ]
  },
  {
   "cell_type": "code",
   "execution_count": null,
   "id": "be8693c1-6d79-4a36-b9c0-71f04d65a8d3",
   "metadata": {
    "tags": []
   },
   "outputs": [],
   "source": []
  },
  {
   "cell_type": "code",
   "execution_count": 73,
   "id": "c953fe25-6c05-4900-bfea-aa0050963f89",
   "metadata": {
    "tags": []
   },
   "outputs": [],
   "source": [
    "import numpy as np\n",
    "\n",
    "def lift_coefficient(alpha, a0, cla, alpha_stall, cla_stall):\n",
    "    if alpha < alpha_stall:\n",
    "        Cl = cla * (alpha - a0)\n",
    "    else:\n",
    "        Cl = cla_stall * (alpha - a0) + (cla_stall - cla) * alpha_stall\n",
    "    return Cl\n",
    "\n",
    "def drag_coefficient(alpha, a0, cda, alpha_stall, cda_stall):\n",
    "    if alpha < alpha_stall:\n",
    "        Cd = cda * (alpha - a0)\n",
    "    else:\n",
    "        Cd = cda_stall * (alpha - a0) + (cda_stall - cda) * alpha_stall\n",
    "    return Cd\n"
   ]
  },
  {
   "cell_type": "code",
   "execution_count": 76,
   "id": "d3b2921c-358b-4536-860c-92a465efc192",
   "metadata": {
    "tags": []
   },
   "outputs": [
    {
     "name": "stdout",
     "output_type": "stream",
     "text": [
      "Lift coefficient: 0.130\n",
      "Drag coefficient: 0.018\n"
     ]
    }
   ],
   "source": [
    "alpha = np.deg2rad(5)  # angle of attack in radians\n",
    "a0 = 0.05984281113\n",
    "cla = 4.752798721\n",
    "cda = 0.6417112299\n",
    "alpha_stall = np.deg2rad(20)\n",
    "cla_stall = -3.85\n",
    "cda_stall = -0.9233984055\n",
    "\n",
    "Cl = lift_coefficient(alpha, a0, cla, alpha_stall, cla_stall)\n",
    "Cd = drag_coefficient(alpha, a0, cda, alpha_stall, cda_stall)\n",
    "\n",
    "print(f\"Lift coefficient: {Cl:.3f}\")\n",
    "print(f\"Drag coefficient: {Cd:.3f}\")\n"
   ]
  },
  {
   "cell_type": "code",
   "execution_count": null,
   "id": "a873e885-5ba4-408f-9f14-e335bcc54c25",
   "metadata": {},
   "outputs": [],
   "source": []
  },
  {
   "cell_type": "code",
   "execution_count": 77,
   "id": "1037d830-c3a6-4253-87d3-a47de8b89057",
   "metadata": {
    "tags": []
   },
   "outputs": [],
   "source": [
    "import matplotlib.pyplot as plt\n",
    "\n",
    "def plot_coefficients(a0, cla, cda, alpha_stall, cla_stall, cda_stall):\n",
    "    alpha_range = np.linspace(-10, 30, 1000)\n",
    "    alpha_rad = np.deg2rad(alpha_range)\n",
    "\n",
    "    Cl = [lift_coefficient(alpha, a0, cla, alpha_stall, cla_stall) for alpha in alpha_rad]\n",
    "    Cd = [drag_coefficient(alpha, a0, cda, alpha_stall, cda_stall) for alpha in alpha_rad]\n",
    "\n",
    "    plt.plot(alpha_range, Cl, label=\"Lift Coefficient\")\n",
    "    plt.plot(alpha_range, Cd, label=\"Drag Coefficient\")\n",
    "    plt.legend()\n",
    "    plt.xlabel(\"Angle of Attack (degrees)\")\n",
    "    plt.ylabel(\"Coefficient\")\n",
    "    plt.show()\n"
   ]
  },
  {
   "cell_type": "code",
   "execution_count": 78,
   "id": "a525891b-ec30-42cf-8631-f2be68440d3a",
   "metadata": {
    "tags": []
   },
   "outputs": [
    {
     "data": {
      "image/png": "[encoded data removed]",
      "text/plain": [
       "<Figure size 640x480 with 1 Axes>"
      ]
     },
     "metadata": {},
     "output_type": "display_data"
    }
   ],
   "source": [
    "a0 = 0.05984281113\n",
    "cla = 4.752798721\n",
    "cda = 0.6417112299\n",
    "alpha_stall = np.deg2rad(20)\n",
    "cla_stall = -3.85\n",
    "cda_stall = -0.9233984055\n",
    "\n",
    "plot_coefficients(a0, cla, cda, alpha_stall, cla_stall, cda_stall)\n"
   ]
  },
  {
   "cell_type": "code",
   "execution_count": null,
   "id": "beedc77b-69a6-4996-a827-58e7366e4098",
   "metadata": {},
   "outputs": [],
   "source": []
  },
  {
   "cell_type": "code",
   "execution_count": null,
   "id": "890baaca-eadf-40eb-aadf-09d3cbed3afb",
   "metadata": {
    "tags": []
   },
   "outputs": [],
   "source": [
    "plt.plot(a0, alpha_stall, '-bo')\n",
    "plt.xlim(-15,45)\n",
    "plt.xlabel('Angle of Attack (degrees)')\n",
    "plt.ylim(-2,2) \n",
    "plt.ylabel('Coefficient of Lift')\n",
    "plt.title('Alpha Lift Curve')\n",
    "plt.axvline(x=alpha_stall, color='r', linestyle='--')\n",
    "plt.grid(True)\n",
    "plt.show()"
   ]
  },
  {
   "cell_type": "code",
   "execution_count": null,
   "id": "02c91d8e-26f0-4603-91f3-377b03930ab3",
   "metadata": {},
   "outputs": [],
   "source": []
  }
 ],
 "metadata": {
  "kernelspec": {
   "display_name": "Python 3 (ipykernel)",
   "language": "python",
   "name": "python3"
  },
  "language_info": {
   "codemirror_mode": {
    "name": "ipython",
    "version": 3
   },
   "file_extension": ".py",
   "mimetype": "text/x-python",
   "name": "python",
   "nbconvert_exporter": "python",
   "pygments_lexer": "ipython3",
   "version": "3.8.10"
  }
 },
 "nbformat": 4,
 "nbformat_minor": 5
}
